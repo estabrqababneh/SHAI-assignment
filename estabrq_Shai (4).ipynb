{
  "nbformat": 4,
  "nbformat_minor": 0,
  "metadata": {
    "colab": {
      "provenance": []
    },
    "kernelspec": {
      "name": "python3",
      "display_name": "Python 3"
    },
    "language_info": {
      "name": "python"
    }
  },
  "cells": [
    {
      "cell_type": "code",
      "execution_count": null,
      "metadata": {
        "id": "iAn_K_Uxiia8",
        "colab": {
          "base_uri": "https://localhost:8080/"
        },
        "outputId": "37bd473f-c546-404e-cc1e-a4a0140b5b62"
      },
      "outputs": [
        {
          "output_type": "stream",
          "name": "stdout",
          "text": [
            "hi\n"
          ]
        }
      ],
      "source": [
        "print(\"hi\")\n"
      ]
    },
    {
      "cell_type": "code",
      "source": [
        "import pandas as pd\n",
        "import numpy as np"
      ],
      "metadata": {
        "id": "CMkCco3Fn8dS"
      },
      "execution_count": null,
      "outputs": []
    },
    {
      "cell_type": "code",
      "source": [
        "# head your dataset\n",
        "df = pd.read_csv{'/content/Salaries(1).csv'}\n",
        "df()"
      ],
      "metadata": {
        "id": "Mr29fDxptzmS"
      },
      "execution_count": null,
      "outputs": []
    },
    {
      "cell_type": "code",
      "source": [
        "row=148655\n",
        "columns=24\n",
        "print(\"number of rows:\",row ,\"number of columns:\",coulmns)\n"
      ],
      "metadata": {
        "id": "8KTfzgWPCd4v"
      },
      "execution_count": null,
      "outputs": []
    },
    {
      "cell_type": "code",
      "source": [],
      "metadata": {
        "id": "oRDprHfCDSeX"
      },
      "execution_count": null,
      "outputs": []
    },
    {
      "cell_type": "code",
      "source": [
        "import statistic\n",
        "y= Salaries(1).csv\n",
        "a= statistic.mean(y)\n",
        "print('mean',a)\n"
      ],
      "metadata": {
        "id": "Y9mimOHtoIbD"
      },
      "execution_count": null,
      "outputs": []
    },
    {
      "cell_type": "code",
      "source": [
        "import statistic\n",
        "y= Salaries(1).csv\n",
        "b= statistic.mode(y)\n",
        "print('mode',b)\n"
      ],
      "metadata": {
        "id": "5MRCyz5byDP4"
      },
      "execution_count": null,
      "outputs": []
    },
    {
      "cell_type": "code",
      "source": [
        "import statistic\n",
        "y= Salaries(1).csv\n",
        "c= statistic.minimum(y)\n",
        "print('minimum',c)\n"
      ],
      "metadata": {
        "id": "BqAJv75qyOny"
      },
      "execution_count": null,
      "outputs": []
    },
    {
      "cell_type": "code",
      "source": [
        "import statistic\n",
        "y= Salaries(1).csv\n",
        "d= statistic.maximum(y)\n",
        "print('maximum',d)\n"
      ],
      "metadata": {
        "id": "cF9Rs6xDybMZ"
      },
      "execution_count": null,
      "outputs": []
    },
    {
      "cell_type": "code",
      "source": [
        "import statistic\n",
        "y= Salaries(1).csv\n",
        "e= statistic.range(y)\n",
        "print('range',e)\n"
      ],
      "metadata": {
        "id": "XMrkaQ3rzap8"
      },
      "execution_count": null,
      "outputs": []
    },
    {
      "cell_type": "code",
      "source": [
        "import statistic\n",
        "y= Salaries(1).csv\n",
        "f= statistic.stdev(y)\n",
        "print('standard diviation',s)\n"
      ],
      "metadata": {
        "id": "b-20IXxSzD9_"
      },
      "execution_count": null,
      "outputs": []
    },
    {
      "cell_type": "code",
      "source": [
        "missing_values = (Salary(1).csv.isnul().sum())\n",
        "print( missing_values)\n"
      ],
      "metadata": {
        "id": "RZF8DxJr5iD_"
      },
      "execution_count": null,
      "outputs": []
    },
    {
      "cell_type": "code",
      "source": [
        "import numpy as np\n",
        "import matplotlib.pyplot as plt\n",
        "plt.title('Distribution of Salaries')\n",
        "plt.hist(df['TotalPay'], bins=30, edgecolor='black')\n",
        "plt.xlabel('Salary')\n",
        "plt.ylabel('Frequency')\n",
        "plt.print()\n",
        "\n"
      ],
      "metadata": {
        "id": "sZdJDCEAFGyk"
      },
      "execution_count": null,
      "outputs": []
    },
    {
      "cell_type": "code",
      "source": [
        "department_proportion = df['JobTitle'].value_counts().head(10)\n",
        "plt.pie(department_proportion, labels=department_proportion.index, autopct='%1.1f%%', startangle=90)\n",
        "plt.title('Proportion of Employees in Different Departments')\n",
        "plt.show()"
      ],
      "metadata": {
        "id": "agnXc12_nNVc"
      },
      "execution_count": null,
      "outputs": []
    },
    {
      "cell_type": "code",
      "source": [
        "average_salary_by_year = df.groupby('Year')['TotalPay'].mean()\n",
        "print(\"\\nAverage salary by year:\")\n",
        "print(average_salary_by_year)"
      ],
      "metadata": {
        "id": "39nMxuoPnRYP"
      },
      "execution_count": null,
      "outputs": []
    },
    {
      "cell_type": "code",
      "source": [
        "correlation = df['TotalPay'].corr(df['BasePay'])\n",
        "print(\"\\nCorrelation between TotalPay and BasePay:\")\n",
        "print(correlation)\n",
        "plt.scatter(df['BasePay'], df['TotalPay'])\n",
        "plt.title('Scatter Plot of TotalPay vs BasePay')\n",
        "plt.xlabel('BasePay')\n",
        "plt.ylabel('TotalPay')\n",
        "plt.show()"
      ],
      "metadata": {
        "id": "zYwrv3-TnU4S"
      },
      "execution_count": null,
      "outputs": []
    },
    {
      "cell_type": "markdown",
      "source": [
        "The dataset include information about employees including their job titles, salaries,  other details.\n",
        "there are many mising values,ststistical calculate and create histogram to visualized distribution of salaries , A pie chart illustrates the proportion of employees in different departments and imple correlation analysis between 'TotalPay' and 'BasePay' was performed, and a scatter plot visualizes the relationship."
      ],
      "metadata": {
        "id": "OKUs9ycNn3PZ"
      }
    }
  ]
}